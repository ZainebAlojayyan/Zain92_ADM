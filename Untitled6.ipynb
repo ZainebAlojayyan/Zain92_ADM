{
  "nbformat": 4,
  "nbformat_minor": 0,
  "metadata": {
    "colab": {
      "provenance": [],
      "toc_visible": true,
      "authorship_tag": "ABX9TyPkC5WQwN60Dn55Jc6n4bVy",
      "include_colab_link": true
    },
    "kernelspec": {
      "name": "python3",
      "display_name": "Python 3"
    },
    "language_info": {
      "name": "python"
    }
  },
  "cells": [
    {
      "cell_type": "markdown",
      "metadata": {
        "id": "view-in-github",
        "colab_type": "text"
      },
      "source": [
        "<a href=\"https://colab.research.google.com/github/ZainebAlojayyan/Zain92_ADM/blob/main/Untitled6.ipynb\" target=\"_parent\"><img src=\"https://colab.research.google.com/assets/colab-badge.svg\" alt=\"Open In Colab\"/></a>"
      ]
    },
    {
      "cell_type": "markdown",
      "source": [
        "# **3. Define a New Score!**"
      ],
      "metadata": {
        "id": "yIzt_EiG3ULg"
      }
    },
    {
      "cell_type": "code",
      "execution_count": null,
      "metadata": {
        "id": "lo1BDS_XOOiK"
      },
      "outputs": [],
      "source": [
        "#1.User Query:\n",
        "\n",
        "def preprocess_text(text):\n",
        "    return text.lower()\n",
        "\n",
        "def preprocess_query(query):\n",
        "    return preprocess_text(query)\n",
        "\n",
        "df = pd.read_table(\"dataset/restaurant_info_filtered.tsv\", index_col=0)\n",
        "\n",
        "\n",
        "query = \"modern seasonal cuisine\"\n",
        "processed_query = preprocess_query(query)\n",
        "\n",
        "\n",
        "searcher = SearchEngine(originale, df,vocabulary,inverted_index)\n",
        "def searcher(searchEngine):\n",
        "    return f\"Searching with {searchEngine}\"\n",
        "\n",
        "descriptions = df[['restaurantName', 'description_filtered']]\n",
        "relevant_restaurants = searchEngine(query, descriptions)\n",
        "\n",
        "return relevant_restaurants\n",
        "\n",
        "\n",
        "#New Scoring Function\n",
        "\n",
        "import heapq\n",
        "\n",
        "def custom_score_function(query, restaurant, descriptions):\n",
        "\n",
        " # Preprocess the query and restaurant description\n",
        "    query_tokens = preprocess_query(query)\n",
        "    description_tokens = preprocess_text(restaurant[\"description\"])\n",
        "\n",
        "    # 1. Description Match:\n",
        "    description_similarity = cosine_similarity_between(query_tokens, description_tokens)\n",
        "\n",
        "    # 2. Cuisine Match:\n",
        "    cuisine_match = 0\n",
        "    if restaurant[\"cuisineType\"].lower() in query.lower():\n",
        "        cuisine_match = 1  #Award 1 point for a match\n",
        "\n",
        "    # 3. Facilities Match:\n",
        "    facilities_and_services = 0\n",
        "    matching_facilities = [\"terrace\", \"air conditioning\", \"wifi\", \"outdoor seating\", \"live music\", \"takeout\", \"drive-thru\"]\n",
        "    for facility in matching_facilities:\n",
        "        if any(facility.lower() in service.lower() for service in restaurant[\"facilitiesServices\"]):\n",
        "            facilities_and_services += 0.5  #Award 0.5 point per matching facility\n",
        "\n",
        "\n",
        "    # 4. Price Range Match:\n",
        "    price_range = 0\n",
        "    if restaurant[\"priceRange\"] == \"Low\":\n",
        "        price_range = 1\n",
        "\n",
        "    # Calculate total score\n",
        "    total_score = description_similarity + cuisine_match + facilities_match + price_range\n",
        "\n",
        "    return total_score\n",
        "\n",
        "\n",
        "#Top K Resturents\n",
        "\n",
        "def rank_restaurants(query, restaurant_data, top_k=5):\n",
        "    heap = []\n",
        "\n",
        " for name, restaurant in restaurant_data.items():\n",
        "        score = custom_score_function(query, restaurant)\n",
        "        heapq.heappush(heap, (-score, name, restaurant))\n",
        "        if len(heap) > top_k:\n",
        "            heapq.heappop(heap)\n",
        "\n",
        "\n",
        "  #top-k restaurants\n",
        "    top_restaurants = []\n",
        "    while heap:\n",
        "        score, name, restaurant = heapq.heappop(heap)\n",
        "        top_restaurants.append({\n",
        "            \"restaurantName\": name,\n",
        "            \"address\": restaurant[\"address\"],\n",
        "            \"description\": restaurant[\"description\"],\n",
        "            \"website\": restaurant[\"website\"], \"customScore\": -score\n",
        "        })\n",
        "\n",
        "        return top_restaurants\n",
        "\n",
        "\n",
        "query = \"modern seasonal cuisine\"\n",
        "\n",
        "# Get the top-5 restaurants based on the custom ranking\n",
        "top_restaurants = rank_restaurants(query, restaurant_data, top_k=5)\n",
        "\n",
        "# Display the results\n",
        "for restaurant in top_restaurants:\n",
        "    print(f\"Restaurant: {restaurant['restaurantName']}\")\n",
        "    print(f\"Address: {restaurant['address']}\")\n",
        "    print(f\"Description: {restaurant['description']}\")\n",
        "    print(f\"Website: {restaurant['website']}\")\n",
        "    print(f\"Custom Score: {restaurant['customScore']}\")\n",
        "    print(\"-\" * 40)\n"
      ]
    }
  ]
}